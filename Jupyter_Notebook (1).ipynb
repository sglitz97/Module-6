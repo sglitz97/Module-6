{
 "cells": [
  {
   "cell_type": "markdown",
   "metadata": {},
   "source": [
    "<center>\n",
    "    <img src=\"https://cf-courses-data.s3.us.cloud-object-storage.appdomain.cloud/IBMDeveloperSkillsNetwork-DS0105EN-SkillsNetwork/labs/Module2/images/SN_web_lightmode.png\" width=\"300\" alt=\"cognitiveclass.ai logo\">\n",
    "</center>\n"
   ]
  },
  {
   "cell_type": "markdown",
   "metadata": {},
   "source": [
    "#### Add your code below following the instructions given in the course\n"
   ]
  },
  {
   "cell_type": "markdown",
   "metadata": {},
   "source": [
    "## Notebook"
   ]
  },
  {
   "cell_type": "markdown",
   "metadata": {},
   "source": [
    "*Introduction*"
   ]
  },
  {
   "cell_type": "markdown",
   "metadata": {},
   "source": [
    "## Data Science Languages\n",
    "**Python**,\n",
    "**R**,\n",
    "**SQL**,\n",
    "**Java Script**,\n",
    "**Julia**\n"
   ]
  },
  {
   "cell_type": "markdown",
   "metadata": {},
   "source": [
    "# Popular Data Science Libraries\n",
    "\n",
    "## Python\n",
    "- **NumPy**: For numerical computing and array manipulation.\n",
    "- **Pandas**: For data manipulation and analysis.\n",
    "- **Matplotlib**: For creating static visualizations.\n",
    "- **Seaborn**: For statistical data visualization built on Matplotlib.\n",
    "- **Scikit-learn**: For machine learning and data mining.\n",
    "- **TensorFlow**: For deep learning and neural networks.\n",
    "- **Keras**: High-level API for building deep learning models.\n",
    "- **PyTorch**: A popular deep learning framework.\n",
    "- **Statsmodels**: For statistical modeling and hypothesis testing.\n",
    "\n",
    "## R\n",
    "- **ggplot2**: For data visualization.\n",
    "- **dplyr**: For data manipulation.\n",
    "- **caret**: For machine learning workflows.\n",
    "- **shiny**: For building interactive web applications.\n",
    "- **tidyr**: For data tidying and reshaping.\n",
    "\n",
    "## Big Data\n",
    "- **Apache Spark**: Distributed data processing engine (PySpark for Python).\n",
    "- **Dask**: Parallel computing with Python.\n",
    "- **Hadoop**: Framework for distributed storage and processing.\n",
    "\n",
    "## Visualization\n",
    "- **Plotly**: Interactive visualizations.\n",
    "- **Bokeh**: For creating interactive plots and dashboards.\n",
    "\n",
    "## Other Specialized Libraries\n",
    "- **BeautifulSoup**: For web scraping.\n",
    "- **NLTK/Spacy**: For natural language processing.\n",
    "- **OpenCV**: For computer vision tasks.\n",
    "- **XGBoost**: Gradient boosting framework for structured data.\n",
    "- **LightGBM**: Another gradient boosting library optimized for performance.\n"
   ]
  },
  {
   "cell_type": "markdown",
   "metadata": {},
   "source": [
    "# Data Science Tools\n",
    "\n",
    "| **Tool**              | **Purpose**                                      | **Key Features**                                         |\n",
    "|------------------------|--------------------------------------------------|---------------------------------------------------------|\n",
    "| **Jupyter Notebook**   | Interactive computing and documentation         | Code, visualize, and document in one place.             |\n",
    "| **RStudio**            | IDE for R programming                           | Integrated tools for R development and visualization.   |\n",
    "| **Tableau**            | Data visualization and business intelligence    | Drag-and-drop interface for creating visual analytics.  |\n",
    "| **Power BI**           | Business analytics and visualization            | Connects to multiple data sources for reports and dashboards. |\n",
    "| **Apache Spark**       | Big data processing                             | Distributed computing and machine learning support.     |\n",
    "| **Hadoop**             | Distributed storage and processing of big data  | Handles massive datasets with HDFS and MapReduce.       |\n",
    "| **Excel**              | Spreadsheet analysis and simple data modeling   | Widely used for smaller-scale data analysis tasks.      |\n",
    "| **Google Colab**       | Cloud-based Jupyter environment                 | Free access to GPUs for machine learning projects.      |\n",
    "| **Kaggle**             | Online platform for data science competitions   | Provides datasets, notebooks, and collaborative tools.  |\n",
    "| **Git**                | Version control system                          | Tracks changes in code and supports collaboration.      |\n"
   ]
  },
  {
   "cell_type": "markdown",
   "metadata": {},
   "source": [
    "# Arithmetic Expression Examples\n",
    "\n",
    "Arithmetic expressions are mathematical computations involving numbers and operators. Below are examples of common arithmetic operations:\n",
    "\n",
    "## Basic Arithmetic Operators\n",
    "- **Addition (`+`)**: Combines two numbers.  \n",
    "  Example: `5 + 3 = 8`\n",
    "- **Subtraction (`-`)**: Finds the difference between two numbers.  \n",
    "  Example: `9 - 4 = 5`\n",
    "- **Multiplication (`*`)**: Multiplies two numbers.  \n",
    "  Example: `6 * 7 = 42`\n",
    "- **Division (`/`)**: Divides one number by another.  \n",
    "  Example: `8 / 2 = 4`\n",
    "- **Modulus (`%`)**: Returns the remainder of a division.  \n",
    "  Example: `10 % 3 = 1`\n",
    "  \n",
    "## Combined Expressions\n",
    "- **Parentheses**: Define the order of operations.  \n",
    "  Example: `(3 + 5) * 2 = 16`\n",
    "- **Exponentiation (`**`)**: Raises a number to the power of another.  \n",
    "  Example: `2 ** 3 = 8`"
   ]
  },
  {
   "cell_type": "code",
   "execution_count": 3,
   "metadata": {},
   "outputs": [
    {
     "name": "stdout",
     "output_type": "stream",
     "text": [
      "The result of (5 * 10) + 3 is: 53\n"
     ]
    }
   ],
   "source": [
    "# Multiplication and Addition Example\n",
    "# Define numbers\n",
    "num1 = 5\n",
    "num2 = 10\n",
    "num3 = 3\n",
    "\n",
    "# Perform multiplication and addition\n",
    "result = (num1 * num2) + num3\n",
    "\n",
    "# Display the result\n",
    "print(f\"The result of ({num1} * {num2}) + {num3} is: {result}\")\n"
   ]
  },
  {
   "cell_type": "code",
   "execution_count": 4,
   "metadata": {},
   "outputs": [
    {
     "name": "stdout",
     "output_type": "stream",
     "text": [
      "150 minutes is equal to 2.50 hours.\n"
     ]
    }
   ],
   "source": [
    "# Convert Minutes to Hours\n",
    "# Define the number of minutes\n",
    "minutes = 150\n",
    "\n",
    "# Perform the conversion\n",
    "hours = minutes / 60\n",
    "\n",
    "# Display the result\n",
    "print(f\"{minutes} minutes is equal to {hours:.2f} hours.\")\n"
   ]
  },
  {
   "cell_type": "markdown",
   "metadata": {},
   "source": [
    "# Objectives\n",
    "\n",
    "- **1**: Create a markdown cell with the title of the notebook.\n",
    "- **3**: Create a markdown cell for an introduction.\n",
    "- **4**: Create a markdown cell to list data science languages.\n",
    "- **5**: Create a markdown cell to list data science libraries.\n",
    "- **6**: Create a markdown cell with a table of Data Science tools. \n",
    "- **7**: Create a markdown cell introducing arithmetic expression examples. \n",
    "- **8**: Create a code cell to multiply and add numbers.\n",
    "- **9**: Create a code cell to convert minutes to hours. \n"
   ]
  },
  {
   "cell_type": "markdown",
   "metadata": {},
   "source": [
    "## Author:\n",
    "**Seth Glitz**"
   ]
  },
  {
   "cell_type": "code",
   "execution_count": null,
   "metadata": {},
   "outputs": [],
   "source": []
  }
 ],
 "metadata": {
  "kernelspec": {
   "display_name": "Python 3 (ipykernel)",
   "language": "python",
   "name": "python3"
  },
  "language_info": {
   "codemirror_mode": {
    "name": "ipython",
    "version": 3
   },
   "file_extension": ".py",
   "mimetype": "text/x-python",
   "name": "python",
   "nbconvert_exporter": "python",
   "pygments_lexer": "ipython3",
   "version": "3.11.9"
  }
 },
 "nbformat": 4,
 "nbformat_minor": 4
}
